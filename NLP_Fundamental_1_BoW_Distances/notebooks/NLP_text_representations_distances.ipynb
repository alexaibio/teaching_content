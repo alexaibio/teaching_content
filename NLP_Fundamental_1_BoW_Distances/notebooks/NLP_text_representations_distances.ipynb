{
 "cells": [
  {
   "cell_type": "code",
   "execution_count": 146,
   "id": "612c9cc2",
   "metadata": {},
   "outputs": [],
   "source": [
    "import math\n",
    "import pandas as pd\n",
    "from collections import OrderedDict\n",
    "import matplotlib.pyplot as plt"
   ]
  },
  {
   "cell_type": "markdown",
   "id": "fcb57963",
   "metadata": {},
   "source": [
    "## Here is our query and text "
   ]
  },
  {
   "cell_type": "code",
   "execution_count": 143,
   "id": "f9ee6d9c",
   "metadata": {},
   "outputs": [],
   "source": [
    "query = 'rabbit hole'\n",
    "\n",
    "db_of_texts = [\n",
    "    \"There was nothing so very remarkable in that; nor did Alice think it so very much out of the way to hear the Rabbit say to itself, Oh dear! Oh dear! I shall be late! (when she thought it over afterwards, it occurred to her that she ought to have wondered at this, but at the time it all seemed quite natural); but when the Rabbit actually took a watch out of its waistcoat-pocket, and looked at it, and then hurried on, Alice started to her feet, for it flashed across her mind that she had never before seen a rabbit with either a waistcoat-pocket, or a watch to take out of it, and burning with curiosity, she ran across the field after it, and fortunately was just in time to see it pop down a large rabbit-hole under the hedge.\",\n",
    "    \"Rabbit Hole is what we are looking for\"\n",
    "]\n",
    "\n",
    "# clear out of special characters, make lower case\n",
    "db_of_texts = [x.replace(';', ' ').replace('-', ' ').replace(', ', ' ').lower() for x in db_of_texts]\n"
   ]
  },
  {
   "cell_type": "markdown",
   "id": "6e051f4a",
   "metadata": {},
   "source": [
    "## Simplest case: Exact match search"
   ]
  },
  {
   "cell_type": "code",
   "execution_count": 53,
   "id": "b28953da",
   "metadata": {},
   "outputs": [],
   "source": [
    "q_words = query.split(\" \")"
   ]
  },
  {
   "cell_type": "code",
   "execution_count": 144,
   "id": "339a2315",
   "metadata": {},
   "outputs": [
    {
     "name": "stdout",
     "output_type": "stream",
     "text": [
      "<rabbit> has been found in text #0\n",
      "<rabbit> has been found in text #1\n"
     ]
    }
   ],
   "source": [
    "# look for the fist word \"rabbit\" in all textes\n",
    "for idx, text in enumerate(db_of_texts):\n",
    "    if q_words[0] in text:\n",
    "        print(f'<{q_words[0]}> has been found in text #{idx}')"
   ]
  },
  {
   "cell_type": "markdown",
   "id": "dd645e63",
   "metadata": {},
   "source": [
    "## Representing text as a vector (BofW)"
   ]
  },
  {
   "cell_type": "code",
   "execution_count": 56,
   "id": "00a3f205",
   "metadata": {},
   "outputs": [],
   "source": [
    "def text2vector(text: str, corpus: set):\n",
    "    text_vector = dict.fromkeys(corpus, 0)   # initialize corpus with zero values\n",
    "    \n",
    "    for word in text.split(\" \"):\n",
    "        text_vector[word] += 1\n",
    "        \n",
    "    return text_vector    "
   ]
  },
  {
   "cell_type": "code",
   "execution_count": 145,
   "id": "63b0c147",
   "metadata": {},
   "outputs": [
    {
     "data": {
      "text/plain": [
       "[('', 2),\n",
       " ('to', 7),\n",
       " ('think', 1),\n",
       " ('late!', 1),\n",
       " ('shall', 1),\n",
       " ('after', 1),\n",
       " ('much', 1)]"
      ]
     },
     "execution_count": 145,
     "metadata": {},
     "output_type": "execute_result"
    }
   ],
   "source": [
    "corpus = set(db_of_texts[0].split(\" \")).union(set(db_of_texts[1].split(\" \")))\n",
    "\n",
    "db_vectors = [text2vector(x,corpus) for x in db_of_texts]\n",
    "\n",
    "#show first 7 values of our vector\n",
    "list(db_vectors[0].items())[:7]"
   ]
  },
  {
   "cell_type": "markdown",
   "id": "ee0be89a",
   "metadata": {},
   "source": [
    "## Calculate a vector representation for our query"
   ]
  },
  {
   "cell_type": "code",
   "execution_count": 62,
   "id": "3d807061",
   "metadata": {},
   "outputs": [
    {
     "data": {
      "text/plain": [
       "{'': 0,\n",
       " 'to': 0,\n",
       " 'think': 0,\n",
       " 'late!': 0,\n",
       " 'shall': 0,\n",
       " 'after': 0,\n",
       " 'much': 0,\n",
       " 'mind': 0,\n",
       " 'nor': 0,\n",
       " 'pop': 0,\n",
       " 'way': 0,\n",
       " 'hurried': 0,\n",
       " 'or': 0,\n",
       " 'watch': 0,\n",
       " 'that': 0,\n",
       " 'hole': 1,\n",
       " 'have': 0,\n",
       " 'ought': 0,\n",
       " 'afterwards': 0,\n",
       " 'all': 0,\n",
       " 'alice': 0,\n",
       " 'actually': 0,\n",
       " 'hear': 0,\n",
       " 'oh': 0,\n",
       " 'when': 0,\n",
       " 'natural)': 0,\n",
       " 'looking': 0,\n",
       " 'of': 0,\n",
       " 'see': 0,\n",
       " 'took': 0,\n",
       " 'what': 0,\n",
       " 'fortunately': 0,\n",
       " 'very': 0,\n",
       " 'she': 0,\n",
       " 'either': 0,\n",
       " 'wondered': 0,\n",
       " 'we': 0,\n",
       " 'over': 0,\n",
       " 'just': 0,\n",
       " 'there': 0,\n",
       " '(when': 0,\n",
       " 'a': 0,\n",
       " 'burning': 0,\n",
       " 'this': 0,\n",
       " 'large': 0,\n",
       " 'before': 0,\n",
       " 'across': 0,\n",
       " 'her': 0,\n",
       " 'say': 0,\n",
       " 'at': 0,\n",
       " 'did': 0,\n",
       " 'never': 0,\n",
       " 'time': 0,\n",
       " 'seemed': 0,\n",
       " 'curiosity': 0,\n",
       " 'seen': 0,\n",
       " 'for': 0,\n",
       " 'field': 0,\n",
       " 'hedge.': 0,\n",
       " 'waistcoat': 0,\n",
       " 'looked': 0,\n",
       " 'in': 0,\n",
       " 'be': 0,\n",
       " 'started': 0,\n",
       " 'itself': 0,\n",
       " 'ran': 0,\n",
       " 'down': 0,\n",
       " 'it': 0,\n",
       " 'under': 0,\n",
       " 'so': 0,\n",
       " 'with': 0,\n",
       " 'is': 0,\n",
       " 'dear!': 0,\n",
       " 'on': 0,\n",
       " 'but': 0,\n",
       " 'pocket': 0,\n",
       " 'occurred': 0,\n",
       " 'its': 0,\n",
       " 'remarkable': 0,\n",
       " 'quite': 0,\n",
       " 'are': 0,\n",
       " 'out': 0,\n",
       " 'feet': 0,\n",
       " 'then': 0,\n",
       " 'i': 0,\n",
       " 'had': 0,\n",
       " 'the': 0,\n",
       " 'rabbit': 1,\n",
       " 'and': 0,\n",
       " 'thought': 0,\n",
       " 'flashed': 0,\n",
       " 'was': 0,\n",
       " 'take': 0,\n",
       " 'nothing': 0}"
      ]
     },
     "execution_count": 62,
     "metadata": {},
     "output_type": "execute_result"
    }
   ],
   "source": [
    "query_vector = text2vector(query, corpus)\n",
    "query_vector"
   ]
  },
  {
   "cell_type": "markdown",
   "id": "f5ff0c2b",
   "metadata": {},
   "source": [
    "## Find a most relevant text to  a query: Hamming Distance"
   ]
  },
  {
   "cell_type": "code",
   "execution_count": 97,
   "id": "c6fe8fd2",
   "metadata": {},
   "outputs": [],
   "source": [
    "# calculate a hammig distance between vec1 and vec2 given corpus dictionary\n",
    "def hamming_distance(vec1: dict, vec2: dict, corpus: list):\n",
    "    hamming_distance = 0\n",
    "    \n",
    "    for word in corpus:\n",
    "        if vec1[word] != vec2[word]:\n",
    "            hamming_distance += 1\n",
    "    \n",
    "    return hamming_distance\n",
    "        "
   ]
  },
  {
   "cell_type": "code",
   "execution_count": 67,
   "id": "b1a12b71",
   "metadata": {},
   "outputs": [
    {
     "name": "stdout",
     "output_type": "stream",
     "text": [
      "88\n",
      "6\n"
     ]
    }
   ],
   "source": [
    "print(hamming_distance(query_vector, db_vectors[0], corpus))\n",
    "\n",
    "print(hamming_distance(query_vector, db_vectors[1], corpus))"
   ]
  },
  {
   "cell_type": "code",
   "execution_count": 165,
   "id": "7fb7c2f8",
   "metadata": {},
   "outputs": [
    {
     "data": {
      "text/html": [
       "<div>\n",
       "<style scoped>\n",
       "    .dataframe tbody tr th:only-of-type {\n",
       "        vertical-align: middle;\n",
       "    }\n",
       "\n",
       "    .dataframe tbody tr th {\n",
       "        vertical-align: top;\n",
       "    }\n",
       "\n",
       "    .dataframe thead th {\n",
       "        text-align: right;\n",
       "    }\n",
       "</style>\n",
       "<table border=\"1\" class=\"dataframe\">\n",
       "  <thead>\n",
       "    <tr style=\"text-align: right;\">\n",
       "      <th></th>\n",
       "      <th>query_words</th>\n",
       "      <th>text_words</th>\n",
       "      <th>is_number_of_words_same</th>\n",
       "    </tr>\n",
       "  </thead>\n",
       "  <tbody>\n",
       "    <tr>\n",
       "      <th></th>\n",
       "      <td>0</td>\n",
       "      <td>2</td>\n",
       "      <td>0</td>\n",
       "    </tr>\n",
       "    <tr>\n",
       "      <th>to</th>\n",
       "      <td>0</td>\n",
       "      <td>7</td>\n",
       "      <td>0</td>\n",
       "    </tr>\n",
       "    <tr>\n",
       "      <th>think</th>\n",
       "      <td>0</td>\n",
       "      <td>1</td>\n",
       "      <td>0</td>\n",
       "    </tr>\n",
       "    <tr>\n",
       "      <th>late!</th>\n",
       "      <td>0</td>\n",
       "      <td>1</td>\n",
       "      <td>0</td>\n",
       "    </tr>\n",
       "    <tr>\n",
       "      <th>shall</th>\n",
       "      <td>0</td>\n",
       "      <td>1</td>\n",
       "      <td>0</td>\n",
       "    </tr>\n",
       "  </tbody>\n",
       "</table>\n",
       "</div>"
      ],
      "text/plain": [
       "       query_words  text_words  is_number_of_words_same\n",
       "                 0           2                        0\n",
       "to               0           7                        0\n",
       "think            0           1                        0\n",
       "late!            0           1                        0\n",
       "shall            0           1                        0"
      ]
     },
     "execution_count": 165,
     "metadata": {},
     "output_type": "execute_result"
    }
   ],
   "source": [
    "df = pd.DataFrame([query_vector, db_vectors[0]]).T\n",
    "df['is_number_of_words_same'] = df.apply(lambda row: 1 if row[0]==row[1] else 0, axis=1)\n",
    "df = df.rename(columns={0: 'query_words', 1: 'text_words'})\n",
    "df.head()"
   ]
  },
  {
   "cell_type": "code",
   "execution_count": 164,
   "id": "d2d3d83c",
   "metadata": {},
   "outputs": [
    {
     "data": {
      "text/html": [
       "<div>\n",
       "<style scoped>\n",
       "    .dataframe tbody tr th:only-of-type {\n",
       "        vertical-align: middle;\n",
       "    }\n",
       "\n",
       "    .dataframe tbody tr th {\n",
       "        vertical-align: top;\n",
       "    }\n",
       "\n",
       "    .dataframe thead th {\n",
       "        text-align: right;\n",
       "    }\n",
       "</style>\n",
       "<table border=\"1\" class=\"dataframe\">\n",
       "  <thead>\n",
       "    <tr style=\"text-align: right;\">\n",
       "      <th></th>\n",
       "      <th>query_words</th>\n",
       "      <th>text_words</th>\n",
       "      <th>is_number_of_words_same</th>\n",
       "    </tr>\n",
       "  </thead>\n",
       "  <tbody>\n",
       "    <tr>\n",
       "      <th>(when</th>\n",
       "      <td>0</td>\n",
       "      <td>0</td>\n",
       "      <td>1</td>\n",
       "    </tr>\n",
       "    <tr>\n",
       "      <th>a</th>\n",
       "      <td>0</td>\n",
       "      <td>0</td>\n",
       "      <td>1</td>\n",
       "    </tr>\n",
       "    <tr>\n",
       "      <th>burning</th>\n",
       "      <td>0</td>\n",
       "      <td>0</td>\n",
       "      <td>1</td>\n",
       "    </tr>\n",
       "    <tr>\n",
       "      <th>this</th>\n",
       "      <td>0</td>\n",
       "      <td>0</td>\n",
       "      <td>1</td>\n",
       "    </tr>\n",
       "    <tr>\n",
       "      <th>large</th>\n",
       "      <td>0</td>\n",
       "      <td>0</td>\n",
       "      <td>1</td>\n",
       "    </tr>\n",
       "  </tbody>\n",
       "</table>\n",
       "</div>"
      ],
      "text/plain": [
       "         query_words  text_words  is_number_of_words_same\n",
       "(when              0           0                        1\n",
       "a                  0           0                        1\n",
       "burning            0           0                        1\n",
       "this               0           0                        1\n",
       "large              0           0                        1"
      ]
     },
     "execution_count": 164,
     "metadata": {},
     "output_type": "execute_result"
    }
   ],
   "source": [
    "df[34:45].tail()"
   ]
  },
  {
   "cell_type": "markdown",
   "id": "e7d09cf3",
   "metadata": {},
   "source": [
    "we can see that with humming distance the second text is closer to our query, which is not quite what we looking for... both texts are discussing Rabbit holes, the first one is just bigger that is why we have more mismatches and as a result a longer distance"
   ]
  },
  {
   "cell_type": "markdown",
   "id": "619ada19",
   "metadata": {},
   "source": [
    "## Euclidian vs Cosine distance"
   ]
  },
  {
   "cell_type": "code",
   "execution_count": 78,
   "id": "110901ba",
   "metadata": {},
   "outputs": [],
   "source": [
    "def euclidean_distance(vector1, vector2):\n",
    "    x1, y1 = vector1\n",
    "    x2, y2 = vector2\n",
    "    distance = math.sqrt((x2 - x1)**2 + (y2 - y1)**2)\n",
    "    return distance\n",
    "\n",
    "def cosine_distance(vector1, vector2):\n",
    "    x1, y1 = vector1\n",
    "    x2, y2 = vector2\n",
    "    \n",
    "    # Calculate dot product\n",
    "    dot_product = x1 * x2 + y1 * y2\n",
    "    \n",
    "    # Calculate magnitudes\n",
    "    magnitude1 = math.sqrt(x1**2 + y1**2)\n",
    "    magnitude2 = math.sqrt(x2**2 + y2**2)\n",
    "    \n",
    "    # Calculate cosine distance\n",
    "    cosine_distance = 1 - (dot_product / (magnitude1 * magnitude2))\n",
    "    \n",
    "    return cosine_distance"
   ]
  },
  {
   "cell_type": "markdown",
   "id": "8ee8aae1",
   "metadata": {},
   "source": [
    "Let's imagine we have a query text with equal numer of keywords(converted to a vector) and two texts to compare.\n",
    "\n",
    "First text has a slitly different proportion of keywords, literally number of hole words is 2x from rabbit, then calculate both Euclidian and Cosine distances between query and this text.\n",
    "\n",
    "Since the proportion of words is different in query and text we have some greater then zero distance, so text are not the same."
   ]
  },
  {
   "cell_type": "code",
   "execution_count": 139,
   "id": "7e6146f0",
   "metadata": {},
   "outputs": [
    {
     "name": "stdout",
     "output_type": "stream",
     "text": [
      "Euclidian distance = 1.0\n",
      "Cosine distance = 0.05131670194948623\n"
     ]
    }
   ],
   "source": [
    "# for simplisity lets imagine we have only two dimensions vectors\n",
    "query = OrderedDict({'rabbit':1, \"hole\":1})\n",
    "text1 = OrderedDict({'rabbit':1, \"hole\":2})\n",
    "\n",
    "print(f'Euclidian distance = {euclidean_distance(query.values(), text1.values())}')\n",
    "print(f'Cosine distance = {cosine_distance(query.values(), text1.values())}')"
   ]
  },
  {
   "cell_type": "markdown",
   "id": "226bcbfd",
   "metadata": {},
   "source": [
    "Now lets imagine that we have another text to compare, but that text is slighly longer, but has the same proportion of keywords (Rabbit and hole) and calculate both distances again"
   ]
  },
  {
   "cell_type": "code",
   "execution_count": 140,
   "id": "3d7f8464",
   "metadata": {},
   "outputs": [
    {
     "name": "stdout",
     "output_type": "stream",
     "text": [
      "Euclidian distance = 3.1622776601683795\n",
      "Cosine distance = 0.05131670194948623\n"
     ]
    }
   ],
   "source": [
    "text2 = OrderedDict({'rabbit':2, \"hole\":4})\n",
    "\n",
    "print(f'Euclidian distance = {euclidean_distance(query.values(), text2.values())}')\n",
    "print(f'Cosine distance = {cosine_distance(query.values(), text2.values())}')"
   ]
  },
  {
   "cell_type": "markdown",
   "id": "3bf0d9e4",
   "metadata": {},
   "source": [
    "Note, that Euclidian distance become larger, but cosine stays exactly the same and that is what we expected.\n",
    "\n",
    "In case of cosine distance the size of the text does not influence the distance measure, only proportion of keywords"
   ]
  },
  {
   "cell_type": "markdown",
   "id": "4e24cb17",
   "metadata": {},
   "source": [
    "### Graphical illustration of why cosine distance is better"
   ]
  },
  {
   "cell_type": "code",
   "execution_count": 141,
   "id": "5fe85f11",
   "metadata": {},
   "outputs": [
    {
     "data": {
      "image/png": "[encoded data removed]",
      "text/plain": [
       "<Figure size 432x288 with 1 Axes>"
      ]
     },
     "metadata": {
      "needs_background": "light"
     },
     "output_type": "display_data"
    }
   ],
   "source": [
    "# Extract vector components\n",
    "x = [query['rabbit'], text1['rabbit'], text2['rabbit']]\n",
    "y = [query['hole'], text1['hole'], text2['hole']]\n",
    "\n",
    "# Create a 2D scatter plot\n",
    "plt.scatter(x[1:], y[1:], c='b', marker='o', s=100)  # Blue dots for text1 and text2\n",
    "plt.scatter(x[0], y[0], c='r', marker='o', s=100)   # Red dot for the query\n",
    "\n",
    "\n",
    "# Add zero points for both axes\n",
    "plt.scatter(0, 0, c='r', marker='x', s=100)  # 'x' represents a red cross at the origin\n",
    "\n",
    "# Set axis labels\n",
    "plt.xlabel('# of words \"Rabbit\"')\n",
    "plt.ylabel('# of word \"Hole\"')\n",
    "\n",
    "# Set the title\n",
    "plt.title('Cosine and Euclidian distances')\n",
    "\n",
    "# Plot lines connecting the origin to each point\n",
    "for i in range(len(x)):\n",
    "    plt.plot([0, x[i]], [0, y[i]], linestyle='--', c='g', lw=2)\n",
    "\n",
    "# Show the plot\n",
    "plt.show()\n"
   ]
  }
 ],
 "metadata": {
  "kernelspec": {
   "display_name": "BioX",
   "language": "python",
   "name": "biox"
  },
  "language_info": {
   "codemirror_mode": {
    "name": "ipython",
    "version": 3
   },
   "file_extension": ".py",
   "mimetype": "text/x-python",
   "name": "python",
   "nbconvert_exporter": "python",
   "pygments_lexer": "ipython3",
   "version": "3.8.13"
  }
 },
 "nbformat": 4,
 "nbformat_minor": 5
}
